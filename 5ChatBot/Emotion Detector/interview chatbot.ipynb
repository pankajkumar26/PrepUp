{
 "cells": [
  {
   "cell_type": "code",
   "execution_count": 6,
   "id": "96b54317",
   "metadata": {},
   "outputs": [],
   "source": [
    "import pyttsx3\n",
    "import speech_recognition as sr\n",
    "from gtts import gTTS\n",
    "import requests\n",
    "import random\n",
    "import language_tool_python\n",
    "from bardapi import Bard\n"
   ]
  },
  {
   "cell_type": "code",
   "execution_count": 7,
   "id": "f9d3e372",
   "metadata": {},
   "outputs": [],
   "source": [
    "BARD_API_KEY = 'eQgrkc7dsiqH47anOc8hp_9pwlcb1LUrAEGtavguo-R6WJa3EoHsw4h73qVZaWSsLHUCiA.'\n",
    "BARD_API_ENDPOINT = 'https://api.botpress.io/bots/eAgrkVD0ILATEs80uZR9eHtldgECJ3xbxCztw4lj70NEyxW8afau6s1xpSusM0fg_pge-Q/mod/nlu'"
   ]
  },
  {
   "cell_type": "code",
   "execution_count": 8,
   "id": "7dfeba5a",
   "metadata": {},
   "outputs": [],
   "source": [
    "def get_completion(prompt):\n",
    "  response = Bard().get_answer(prompt)['content']\n",
    "  return response"
   ]
  },
  {
   "cell_type": "code",
   "execution_count": 3,
   "id": "73dd35eb",
   "metadata": {},
   "outputs": [],
   "source": [
    "def text_to_speech(text):\n",
    "    engine = pyttsx3.init()\n",
    "    voices = engine.getProperty(\"voices\")\n",
    "    engine.setProperty(\"voice\", voices[1].id)\n",
    "    rate = engine.getProperty(\"rate\")\n",
    "    engine.setProperty(\"rate\", 150)\n",
    "    engine.say(text)\n",
    "    engine.runAndWait()\n"
   ]
  },
  {
   "cell_type": "code",
   "execution_count": 4,
   "id": "d6b363bf",
   "metadata": {},
   "outputs": [],
   "source": [
    "def speech_to_text():\n",
    "    recognizer = sr.Recognizer()\n",
    "\n",
    "    with sr.Microphone() as source:\n",
    "        print(\"Please start speaking...\")\n",
    "        recognizer.adjust_for_ambient_noise(source)\n",
    "        audio = recognizer.listen(source)\n",
    "\n",
    "        try:\n",
    "            print(\"Recognizing ...\")\n",
    "            text = recognizer.recognize_google(audio, language=\"en-in\")\n",
    "            return text\n",
    "        except Exception as e:\n",
    "            print(\"Sorry, I didn't understand\")\n",
    "            return \"Sorry, I didn't understand\"\n"
   ]
  },
  {
   "cell_type": "code",
   "execution_count": 5,
   "id": "e0ada518",
   "metadata": {},
   "outputs": [],
   "source": [
    "\n",
    "def get_random_question():\n",
    "    questions = [\n",
    "        \"Tell me about yourself.\",\n",
    "        \"What are your strengths?\",\n",
    "        \"Can you describe a challenging situation you've faced at work?\",\n",
    "        \"Where do you see yourself in five years?\",\n",
    "        \"What is your greatest achievement?\",\n",
    "        \"How do you handle stress or pressure?\",\n",
    "        \"What is your approach to teamwork?\",\n",
    "        \"Tell me about a time when you had to overcome a setback.\",\n",
    "    ]\n",
    "    return random.choice(questions)\n"
   ]
  },
  {
   "cell_type": "code",
   "execution_count": 11,
   "id": "03e28084",
   "metadata": {},
   "outputs": [],
   "source": [
    "\n",
    "def send_request_to_bard(input_text, question):\n",
    "    # headers = {'Content-Type': 'application/json', 'Authorization': f'Bearer {BARD_API_KEY}'}\n",
    "    # data = {'text': input_text}\n",
    "\n",
    "    try:\n",
    "        # response = requests.post(BARD_API_ENDPOINT, headers=headers, json=data, timeout=10)  # Set a timeout (in seconds)\n",
    "        # response.raise_for_status()  # Raise an exception for bad responses (4xx or 5xx)\n",
    "        # return response.json().get('text', '')\n",
    "          prompt =f\"\"\"\n",
    "  Your task is to act as a Text Analyzer.\n",
    "  I'll give you text which is basically the answers given by a person for the questions asked. \n",
    "  And your job is to analyse the answer for that question and tell how accurate his answer was and how many grammar mistakes he had.\n",
    "  Don't be conversational. I need a plain 50 word answer for this.\n",
    "  Text is shared below, delimited with triple backticks:\n",
    "  ```{input_text}```\n",
    "  \"\"\"\n",
    "        \n",
    "    except requests.exceptions.RequestException as e:\n",
    "        print(f\"Error: {e}\")\n",
    "        return \"Error: Unable to connect to the server. Please try again later.\"\n"
   ]
  },
  {
   "cell_type": "code",
   "execution_count": 9,
   "id": "1e0be8f7",
   "metadata": {},
   "outputs": [],
   "source": [
    "def analyze_english(text):\n",
    "    tool = language_tool_python.LanguageTool('en-US')\n",
    "    matches = tool.check(text)\n",
    "    return matches"
   ]
  },
  {
   "cell_type": "code",
   "execution_count": 14,
   "id": "1328b6b8",
   "metadata": {},
   "outputs": [
    {
     "name": "stdout",
     "output_type": "stream",
     "text": [
      "Please start speaking...\n",
      "Recognizing ...\n",
      "Error: HTTPSConnectionPool(host='api.botpress.io', port=443): Max retries exceeded with url: /bots/eAgrkVD0ILATEs80uZR9eHtldgECJ3xbxCztw4lj70NEyxW8afau6s1xpSusM0fg_pge-Q/mod/nlu (Caused by NameResolutionError(\"<urllib3.connection.HTTPSConnection object at 0x00000240947EEB90>: Failed to resolve 'api.botpress.io' ([Errno 11001] getaddrinfo failed)\"))\n",
      "Please start speaking...\n",
      "Recognizing ...\n",
      "Error: HTTPSConnectionPool(host='api.botpress.io', port=443): Max retries exceeded with url: /bots/eAgrkVD0ILATEs80uZR9eHtldgECJ3xbxCztw4lj70NEyxW8afau6s1xpSusM0fg_pge-Q/mod/nlu (Caused by NameResolutionError(\"<urllib3.connection.HTTPSConnection object at 0x0000024092E36050>: Failed to resolve 'api.botpress.io' ([Errno 11001] getaddrinfo failed)\"))\n",
      "Please start speaking...\n"
     ]
    },
    {
     "ename": "KeyboardInterrupt",
     "evalue": "",
     "output_type": "error",
     "traceback": [
      "\u001b[1;31m---------------------------------------------------------------------------\u001b[0m",
      "\u001b[1;31mKeyboardInterrupt\u001b[0m                         Traceback (most recent call last)",
      "Cell \u001b[1;32mIn[14], line 36\u001b[0m\n\u001b[0;32m     33\u001b[0m         file\u001b[38;5;241m.\u001b[39mwrite(report)\n\u001b[0;32m     35\u001b[0m \u001b[38;5;28;01mif\u001b[39;00m \u001b[38;5;18m__name__\u001b[39m \u001b[38;5;241m==\u001b[39m \u001b[38;5;124m\"\u001b[39m\u001b[38;5;124m__main__\u001b[39m\u001b[38;5;124m\"\u001b[39m:\n\u001b[1;32m---> 36\u001b[0m     \u001b[43minterview_chatbot\u001b[49m\u001b[43m(\u001b[49m\u001b[43m)\u001b[49m\n",
      "Cell \u001b[1;32mIn[14], line 9\u001b[0m, in \u001b[0;36minterview_chatbot\u001b[1;34m()\u001b[0m\n\u001b[0;32m      6\u001b[0m question \u001b[38;5;241m=\u001b[39m get_random_question()\n\u001b[0;32m      7\u001b[0m text_to_speech(question)\n\u001b[1;32m----> 9\u001b[0m user_input \u001b[38;5;241m=\u001b[39m \u001b[43mspeech_to_text\u001b[49m\u001b[43m(\u001b[49m\u001b[43m)\u001b[49m\n\u001b[0;32m     10\u001b[0m user_responses\u001b[38;5;241m.\u001b[39mappend(user_input)\n\u001b[0;32m     12\u001b[0m \u001b[38;5;28;01mif\u001b[39;00m \u001b[38;5;124m\"\u001b[39m\u001b[38;5;124mexit\u001b[39m\u001b[38;5;124m\"\u001b[39m \u001b[38;5;129;01min\u001b[39;00m user_input\u001b[38;5;241m.\u001b[39mlower():\n",
      "Cell \u001b[1;32mIn[9], line 7\u001b[0m, in \u001b[0;36mspeech_to_text\u001b[1;34m()\u001b[0m\n\u001b[0;32m      5\u001b[0m \u001b[38;5;28mprint\u001b[39m(\u001b[38;5;124m\"\u001b[39m\u001b[38;5;124mPlease start speaking...\u001b[39m\u001b[38;5;124m\"\u001b[39m)\n\u001b[0;32m      6\u001b[0m recognizer\u001b[38;5;241m.\u001b[39madjust_for_ambient_noise(source)\n\u001b[1;32m----> 7\u001b[0m audio \u001b[38;5;241m=\u001b[39m \u001b[43mrecognizer\u001b[49m\u001b[38;5;241;43m.\u001b[39;49m\u001b[43mlisten\u001b[49m\u001b[43m(\u001b[49m\u001b[43msource\u001b[49m\u001b[43m)\u001b[49m\n\u001b[0;32m      9\u001b[0m \u001b[38;5;28;01mtry\u001b[39;00m:\n\u001b[0;32m     10\u001b[0m     \u001b[38;5;28mprint\u001b[39m(\u001b[38;5;124m\"\u001b[39m\u001b[38;5;124mRecognizing ...\u001b[39m\u001b[38;5;124m\"\u001b[39m)\n",
      "File \u001b[1;32mc:\\Users\\Pankaj\\OneDrive\\Desktop\\major project k\\major project\\env\\Lib\\site-packages\\speech_recognition\\__init__.py:523\u001b[0m, in \u001b[0;36mRecognizer.listen\u001b[1;34m(self, source, timeout, phrase_time_limit, snowboy_configuration)\u001b[0m\n\u001b[0;32m    520\u001b[0m \u001b[38;5;28;01mif\u001b[39;00m phrase_time_limit \u001b[38;5;129;01mand\u001b[39;00m elapsed_time \u001b[38;5;241m-\u001b[39m phrase_start_time \u001b[38;5;241m>\u001b[39m phrase_time_limit:\n\u001b[0;32m    521\u001b[0m     \u001b[38;5;28;01mbreak\u001b[39;00m\n\u001b[1;32m--> 523\u001b[0m buffer \u001b[38;5;241m=\u001b[39m \u001b[43msource\u001b[49m\u001b[38;5;241;43m.\u001b[39;49m\u001b[43mstream\u001b[49m\u001b[38;5;241;43m.\u001b[39;49m\u001b[43mread\u001b[49m\u001b[43m(\u001b[49m\u001b[43msource\u001b[49m\u001b[38;5;241;43m.\u001b[39;49m\u001b[43mCHUNK\u001b[49m\u001b[43m)\u001b[49m\n\u001b[0;32m    524\u001b[0m \u001b[38;5;28;01mif\u001b[39;00m \u001b[38;5;28mlen\u001b[39m(buffer) \u001b[38;5;241m==\u001b[39m \u001b[38;5;241m0\u001b[39m: \u001b[38;5;28;01mbreak\u001b[39;00m  \u001b[38;5;66;03m# reached end of the stream\u001b[39;00m\n\u001b[0;32m    525\u001b[0m frames\u001b[38;5;241m.\u001b[39mappend(buffer)\n",
      "File \u001b[1;32mc:\\Users\\Pankaj\\OneDrive\\Desktop\\major project k\\major project\\env\\Lib\\site-packages\\speech_recognition\\__init__.py:199\u001b[0m, in \u001b[0;36mMicrophone.MicrophoneStream.read\u001b[1;34m(self, size)\u001b[0m\n\u001b[0;32m    198\u001b[0m \u001b[38;5;28;01mdef\u001b[39;00m \u001b[38;5;21mread\u001b[39m(\u001b[38;5;28mself\u001b[39m, size):\n\u001b[1;32m--> 199\u001b[0m     \u001b[38;5;28;01mreturn\u001b[39;00m \u001b[38;5;28;43mself\u001b[39;49m\u001b[38;5;241;43m.\u001b[39;49m\u001b[43mpyaudio_stream\u001b[49m\u001b[38;5;241;43m.\u001b[39;49m\u001b[43mread\u001b[49m\u001b[43m(\u001b[49m\u001b[43msize\u001b[49m\u001b[43m,\u001b[49m\u001b[43m \u001b[49m\u001b[43mexception_on_overflow\u001b[49m\u001b[38;5;241;43m=\u001b[39;49m\u001b[38;5;28;43;01mFalse\u001b[39;49;00m\u001b[43m)\u001b[49m\n",
      "File \u001b[1;32mc:\\Users\\Pankaj\\OneDrive\\Desktop\\major project k\\major project\\env\\Lib\\site-packages\\pyaudio\\__init__.py:570\u001b[0m, in \u001b[0;36mPyAudio.Stream.read\u001b[1;34m(self, num_frames, exception_on_overflow)\u001b[0m\n\u001b[0;32m    567\u001b[0m \u001b[38;5;28;01mif\u001b[39;00m \u001b[38;5;129;01mnot\u001b[39;00m \u001b[38;5;28mself\u001b[39m\u001b[38;5;241m.\u001b[39m_is_input:\n\u001b[0;32m    568\u001b[0m     \u001b[38;5;28;01mraise\u001b[39;00m \u001b[38;5;167;01mIOError\u001b[39;00m(\u001b[38;5;124m\"\u001b[39m\u001b[38;5;124mNot input stream\u001b[39m\u001b[38;5;124m\"\u001b[39m,\n\u001b[0;32m    569\u001b[0m                   paCanNotReadFromAnOutputOnlyStream)\n\u001b[1;32m--> 570\u001b[0m \u001b[38;5;28;01mreturn\u001b[39;00m \u001b[43mpa\u001b[49m\u001b[38;5;241;43m.\u001b[39;49m\u001b[43mread_stream\u001b[49m\u001b[43m(\u001b[49m\u001b[38;5;28;43mself\u001b[39;49m\u001b[38;5;241;43m.\u001b[39;49m\u001b[43m_stream\u001b[49m\u001b[43m,\u001b[49m\u001b[43m \u001b[49m\u001b[43mnum_frames\u001b[49m\u001b[43m,\u001b[49m\n\u001b[0;32m    571\u001b[0m \u001b[43m                      \u001b[49m\u001b[43mexception_on_overflow\u001b[49m\u001b[43m)\u001b[49m\n",
      "\u001b[1;31mKeyboardInterrupt\u001b[0m: "
     ]
    }
   ],
   "source": [
    "def interview_chatbot():\n",
    "    text_to_speech(\"Hello! I am your interview assistant. How can I help you today?\")\n",
    "    user_responses = []\n",
    "\n",
    "    while True:\n",
    "        question = get_random_question()\n",
    "        text_to_speech(question)\n",
    "\n",
    "        user_input = speech_to_text()\n",
    "        user_responses.append(user_input)\n",
    "\n",
    "        if \"exit\" in user_input.lower():\n",
    "            text_to_speech(\"Goodbye! Have a great day.\")\n",
    "            break\n",
    "\n",
    "        text_to_speech(\"Please wait while I process your response.\")\n",
    "        bard_response = send_request_to_bard(user_input, question)\n",
    "        text_to_speech(bard_response)\n",
    "\n",
    "    # Analyze English in user responses and generate a report\n",
    "    report = \"\\n\\n---- English Communication Report Card ----\\n\"\n",
    "    for i, response in enumerate(user_responses, start=1):\n",
    "        matches = analyze_english(response)\n",
    "        if matches:\n",
    "            report += f\"\\nResponse {i}:\\n\"\n",
    "            for match in matches:\n",
    "                report += f\"- {match}\\n\"\n",
    "        else:\n",
    "            report += f\"\\nResponse {i}: No English issues found.\\n\"\n",
    "\n",
    "    # Save the report to a file or print it\n",
    "    with open(\"english_report.txt\", \"w\") as file:\n",
    "        file.write(report)\n",
    "\n",
    "if __name__ == \"__main__\":\n",
    "    interview_chatbot()\n"
   ]
  }
 ],
 "metadata": {
  "kernelspec": {
   "display_name": "Python 3 (ipykernel)",
   "language": "python",
   "name": "python3"
  },
  "language_info": {
   "codemirror_mode": {
    "name": "ipython",
    "version": 3
   },
   "file_extension": ".py",
   "mimetype": "text/x-python",
   "name": "python",
   "nbconvert_exporter": "python",
   "pygments_lexer": "ipython3",
   "version": "3.11.4"
  }
 },
 "nbformat": 4,
 "nbformat_minor": 5
}
