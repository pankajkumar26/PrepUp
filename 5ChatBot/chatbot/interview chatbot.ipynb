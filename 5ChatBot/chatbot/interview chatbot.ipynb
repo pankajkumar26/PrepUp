{
 "cells": [
  {
   "cell_type": "code",
   "execution_count": 6,
   "id": "96b54317",
   "metadata": {},
   "outputs": [],
   "source": [
    "import pyttsx3\n",
    "import speech_recognition as sr\n",
    "from gtts import gTTS\n",
    "import requests\n",
    "import random\n",
    "import language_tool_python\n",
    "from bardapi import Bard\n"
   ]
  },
  {
   "cell_type": "code",
   "execution_count": 37,
   "id": "93717747",
   "metadata": {},
   "outputs": [],
   "source": [
    "import asyncio\n",
    "import time\n",
    "import os"
   ]
  },
  {
   "cell_type": "code",
   "execution_count": 35,
   "id": "f9d3e372",
   "metadata": {},
   "outputs": [],
   "source": [
    "# BARD_API_KEY = 'eQgrkVX-PXO8jbQUf-t3A5YqLFGg6BraM6XnRxD0cB1-NzIYkjDRwlZOA37ZXtSFqfbt2g.'\n",
    "# BARD_API_ENDPOINT = 'https://api.botpress.io/bots/eAgrkVD0ILATEs80uZR9eHtldgECJ3xbxCztw4lj70NEyxW8afau6s1xpSusM0fg_pge-Q/mod/nlu'"
   ]
  },
  {
   "cell_type": "code",
   "execution_count": 38,
   "id": "59c6cc88",
   "metadata": {},
   "outputs": [],
   "source": [
    "os.environ['_BARD_API_KEY']='eQgrkVX-PXO8jbQUf-t3A5YqLFGg6BraM6XnRxD0cB1-NzIYkjDRwlZOA37ZXtSFqfbt2g.'"
   ]
  },
  {
   "cell_type": "code",
   "execution_count": 26,
   "id": "7dfeba5a",
   "metadata": {},
   "outputs": [],
   "source": [
    "def get_completion(prompt):\n",
    "  response = Bard().get_answer(prompt)['content']\n",
    "  # await asyncio.sleep(7)\n",
    "  return response"
   ]
  },
  {
   "cell_type": "code",
   "execution_count": 39,
   "id": "872ad45a",
   "metadata": {},
   "outputs": [
    {
     "data": {
      "text/plain": [
       "'Learning Python can be an exciting and rewarding journey. It\\'s a versatile language that can be used for a variety of purposes, from data science and web development to machine learning and automation.\\n\\nHere are some steps you can take to get started with learning Python:\\n\\n**1. Understand why you want to learn Python.**\\n\\nWhat are your goals? Do you want to use Python for work, personal projects, or just for fun? Knowing your motivation will help you stay focused and choose the right learning resources.\\n\\n**2. Set realistic expectations.**\\n\\nLearning Python takes time and effort. Don\\'t expect to become an expert overnight. Be patient with yourself and celebrate your progress along the way.\\n\\n**3. Choose the right learning resources.**\\n\\nThere are many great resources available for learning Python, both online and offline. Some popular options include:\\n\\n* **Online courses:** Platforms like Coursera, edX, and Udemy offer a variety of Python courses for all levels.\\n* **Interactive tutorials:** Websites like Learn Python and Codecademy offer interactive tutorials that can help you learn Python by doing.\\n* **Books:** There are many great books available for learning Python, such as \"Automate the Boring Stuff with Python\" by Al Sweigart and \"Python Crash Course\" by Eric Matthes.\\n* **Videos:** YouTube channels like Traversy Media and freeCodeCamp offer a variety of Python video tutorials.\\n\\n**4. Start with the basics.**\\n\\nOnce you\\'ve chosen your learning resources, start with the basics of Python syntax, data types, variables, and operators. Once you have a solid understanding of the fundamentals, you can move on to more advanced topics.\\n\\n**5. Practice, practice, practice.**\\n\\nThe best way to learn Python is to practice writing code. There are many ways to do this, such as:\\n\\n* **Working on personal projects:** Come up with a small project that you can use to practice your Python skills. This could be anything from a simple game to a data analysis script.\\n* **Participating in coding challenges:** Websites like HackerRank and Codewars offer a variety of coding challenges that can help you test your skills and learn new things.\\n* **Contributing to open source projects:** Contributing to open source projects is a great way to gain experience and learn from other Python developers.\\n\\n**6. Join a community.**\\n\\nThere are many online and offline communities of Python learners and developers. Joining a community can be a great way to get help, ask questions, and stay motivated.\\n\\nHere are some additional tips for learning Python:\\n\\n* **Be patient and persistent.** Learning Python takes time and effort. Don\\'t get discouraged if you don\\'t understand something right away. Just keep practicing and you will eventually get it.\\n* **Don\\'t be afraid to ask for help.** There are many people who are willing to help you learn Python. Don\\'t be afraid to ask questions on forums, Stack Overflow, or in online communities.\\n* **Have fun!** Learning Python should be fun. If you\\'re not enjoying yourself, you\\'re less likely to stick with it. So find projects and resources that you enjoy and make learning Python a positive experience.\\n\\nI hope this helps!'"
      ]
     },
     "execution_count": 39,
     "metadata": {},
     "output_type": "execute_result"
    }
   ],
   "source": [
    "get_completion(\"how to learn python\")"
   ]
  },
  {
   "cell_type": "code",
   "execution_count": 21,
   "id": "91414f6e",
   "metadata": {},
   "outputs": [],
   "source": [
    "def display_and_store_response(bard_response):\n",
    "    print(bard_response)\n",
    "    with open('data.txt', 'a') as f:\n",
    "        f.write(\"%s\\n\" % bard_response)"
   ]
  },
  {
   "cell_type": "code",
   "execution_count": 3,
   "id": "73dd35eb",
   "metadata": {},
   "outputs": [],
   "source": [
    "def text_to_speech(text):\n",
    "    engine = pyttsx3.init()\n",
    "    voices = engine.getProperty(\"voices\")\n",
    "    engine.setProperty(\"voice\", voices[1].id)\n",
    "    rate = engine.getProperty(\"rate\")\n",
    "    engine.setProperty(\"rate\", 150)\n",
    "    engine.say(text)\n",
    "    engine.runAndWait()\n"
   ]
  },
  {
   "cell_type": "code",
   "execution_count": 4,
   "id": "d6b363bf",
   "metadata": {},
   "outputs": [],
   "source": [
    "def speech_to_text():\n",
    "    recognizer = sr.Recognizer()\n",
    "\n",
    "    with sr.Microphone() as source:\n",
    "        print(\"Please start speaking...\")\n",
    "        recognizer.adjust_for_ambient_noise(source)\n",
    "        audio = recognizer.listen(source)\n",
    "\n",
    "        try:\n",
    "            print(\"Recognizing ...\")\n",
    "            text = recognizer.recognize_google(audio, language=\"en-in\")\n",
    "            return text\n",
    "        except Exception as e:\n",
    "            print(\"Sorry, I didn't understand\")\n",
    "            return \"Sorry, I didn't understand\"\n"
   ]
  },
  {
   "cell_type": "code",
   "execution_count": 5,
   "id": "e0ada518",
   "metadata": {},
   "outputs": [],
   "source": [
    "\n",
    "def get_random_question():\n",
    "    questions = [\n",
    "        \"Tell me about yourself.\",\n",
    "        \"What are your strengths?\",\n",
    "        \"Can you describe a challenging situation you've faced at work?\",\n",
    "        \"Where do you see yourself in five years?\",\n",
    "        \"What is your greatest achievement?\",\n",
    "        \"How do you handle stress or pressure?\",\n",
    "        \"What is your approach to teamwork?\",\n",
    "        \"Tell me about a time when you had to overcome a setback.\",\n",
    "    ]\n",
    "    return random.choice(questions)\n"
   ]
  },
  {
   "cell_type": "code",
   "execution_count": 41,
   "id": "03e28084",
   "metadata": {},
   "outputs": [],
   "source": [
    "\n",
    "def send_request_to_bard(input_text, question):\n",
    "    # headers = {'Content-Type': 'application/json', 'Authorization': f'Bearer {BARD_API_KEY}'}\n",
    "    # data = {'text': input_text}\n",
    "\n",
    "    try:\n",
    "        # response = requests.post(BARD_API_ENDPOINT, headers=headers, json=data, timeout=10)  # Set a timeout (in seconds)\n",
    "        # response.raise_for_status()  # Raise an exception for bad responses (4xx or 5xx)\n",
    "        # return response.json().get('text', '')\n",
    "          prompt =f\"\"\"\n",
    "  Your task is to act as a Text Analyzer.\n",
    "  I'll give you text which is basically the answers given by a person for the questions asked. \n",
    "  And your job is to analyse the answer for that question and tell how accurate his answer was and how many grammar mistakes he had.\n",
    "  Don't be conversational. I need a plain 10-40 word answer for this.\n",
    "  Question and the Answer is shared below, delimited with triple backticks:\n",
    "  ```{question}```,\n",
    "  ```{input_text}```\n",
    "  \n",
    "  \"\"\"\n",
    "          return get_completion(prompt)\n",
    "        \n",
    "    except requests.exceptions.RequestException as e:\n",
    "        print(f\"Error: {e}\")\n",
    "        return \"Error: Unable to connect to the server. Please try again later.\"\n"
   ]
  },
  {
   "cell_type": "code",
   "execution_count": null,
   "id": "8749e747",
   "metadata": {},
   "outputs": [],
   "source": [
    "send_request_to_bard(\"My strengths includes learning new technology quickly and solving the problems based on it\",\"What are your strengths?\")"
   ]
  },
  {
   "cell_type": "code",
   "execution_count": 9,
   "id": "1e0be8f7",
   "metadata": {},
   "outputs": [],
   "source": [
    "def analyze_english(text):\n",
    "    tool = language_tool_python.LanguageTool('en-US')\n",
    "    matches = tool.check(text)\n",
    "    return matches"
   ]
  },
  {
   "cell_type": "code",
   "execution_count": 42,
   "id": "1328b6b8",
   "metadata": {},
   "outputs": [
    {
     "name": "stdout",
     "output_type": "stream",
     "text": [
      "Please start speaking...\n",
      "Recognizing ...\n",
      "Answer lacks depth and specificity. Mentions a tool (\"Truecaller\") but doesn't explain its role in teamwork approach. Accuracy unclear, grammar error (\"with all the people\") present. (29 words)\n",
      "\n",
      "Please start speaking...\n",
      "Recognizing ...\n",
      "Accuracy: Partially accurate. Highlights one strength (adaptability) but lacks detailed examples or other strengths. Grammar: 1 error (\"implement all the way\"). Suggestion: \"My strengths include quickly grasping new technologies and explaining them effectively to others, guiding them through implementation.\"\n",
      "\n",
      "Please start speaking...\n",
      "Recognizing ...\n",
      "Answer lacks details on specific teamwork skills (\"used to\" suggests past experience not current approach). Grammatically incorrect (\"used to handle\" should be \"used to handling\"). Accuracy unclear without context of expected answer. Consider revising for clarity and specificity.\n",
      "\n",
      "\n",
      "Please start speaking...\n",
      "Recognizing ...\n",
      "Answer accuracy: Low. Mentions learning Python but mislabels it as a computer virus. Doesn't address core strengths beyond technical skill. Grammar mistakes: 3 (\"myself\" misplaced, missing article, redundant \"the\").\n",
      "\n"
     ]
    }
   ],
   "source": [
    "def interview_chatbot():\n",
    "    text_to_speech(\"Hello! I am your interview assistant. How can I help you today?\")\n",
    "    user_responses = []\n",
    "    length = 4\n",
    "    i = 0 \n",
    "    while i<length:\n",
    "        question = get_random_question()\n",
    "        text_to_speech(question)\n",
    "\n",
    "        user_input = speech_to_text()\n",
    "        user_responses.append(user_input)\n",
    "\n",
    "        if \"exit\" in user_input.lower():\n",
    "            text_to_speech(\"Goodbye! Have a great day.\")\n",
    "            break\n",
    "\n",
    "        text_to_speech(\"Please wait while I process your response.\")\n",
    "        bard_response = send_request_to_bard(user_input, question)\n",
    "        # time.sleep(7)\n",
    "        # Display BARD's response to the user and store it for later use\n",
    "        display_and_store_response(bard_response)\n",
    "        text_to_speech(bard_response)\n",
    "        i += 1\n",
    "\n",
    "    # Analyze English in user responses and generate a report\n",
    "    report = \"\\n\\n---- English Communication Report Card ----\\n\"\n",
    "    for i, response in enumerate(user_responses, start=1):\n",
    "        matches = analyze_english(response)\n",
    "        if matches:\n",
    "            report += f\"\\nResponse {i}:\\n\"\n",
    "            for match in matches:\n",
    "                report += f\"- {match}\\n\"\n",
    "        else:\n",
    "            report += f\"\\nResponse {i}: No English issues found.\\n\"\n",
    "\n",
    "    # Save the report to a file or print it\n",
    "    with open(\"english_report.txt\", \"w\") as file:\n",
    "        file.write(report)\n",
    "\n",
    "if __name__ == \"__main__\":\n",
    "    interview_chatbot()\n"
   ]
  },
  {
   "cell_type": "code",
   "execution_count": null,
   "id": "d78a7de2",
   "metadata": {},
   "outputs": [],
   "source": []
  }
 ],
 "metadata": {
  "kernelspec": {
   "display_name": "Python 3 (ipykernel)",
   "language": "python",
   "name": "python3"
  },
  "language_info": {
   "codemirror_mode": {
    "name": "ipython",
    "version": 3
   },
   "file_extension": ".py",
   "mimetype": "text/x-python",
   "name": "python",
   "nbconvert_exporter": "python",
   "pygments_lexer": "ipython3",
   "version": "3.11.4"
  }
 },
 "nbformat": 4,
 "nbformat_minor": 5
}
